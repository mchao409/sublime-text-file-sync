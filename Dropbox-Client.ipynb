{
 "cells": [
  {
   "cell_type": "markdown",
   "metadata": {},
   "source": [
    "Client code for Dropbox's API"
   ]
  },
  {
   "cell_type": "code",
   "execution_count": 1,
   "metadata": {
    "collapsed": true
   },
   "outputs": [],
   "source": [
    "import webbrowser\n",
    "import http.server\n",
    "import socketserver\n",
    "from urllib import request\n",
    "import urllib\n",
    "import http.server\n",
    "import socket\n",
    "import re\n",
    "import time\n",
    "import json"
   ]
  },
  {
   "cell_type": "code",
   "execution_count": 2,
   "metadata": {
    "collapsed": true
   },
   "outputs": [],
   "source": [
    "f = open(\"app_info.txt\", \"r\") ## Contains private info about application\n",
    "APP_KEY = f.readline().rstrip().replace(\"app key \", \"\")\n",
    "APP_SECRET = f.readline().rstrip().replace(\"secret \", \"\")\n",
    "# Generated token so that you don't have to run server each time when testing. Comment out if running server\n",
    "token = f.readline().rstrip().replace(\"token \", \"\") \n",
    "\n",
    "authorize_url =(\"https://www.dropbox.com/oauth2/authorize?client_id=\" + APP_KEY + \n",
    "      \"&response_type=code&redirect_uri=http://localhost:8000\")"
   ]
  },
  {
   "cell_type": "code",
   "execution_count": null,
   "metadata": {
    "collapsed": true
   },
   "outputs": [],
   "source": [
    "# # Server code (can skip for now)\n",
    "webbrowser.open(authorize_url)\n",
    "\n",
    "HOST, PORT = \"localhost\", 8000\n",
    "data = \"unecessary\"\n",
    "\n",
    "# Create a socket (SOCK_STREAM means a TCP socket)\n",
    "\n",
    "received = None\n",
    "while (received == None or (isinstance(received,str) and len(received) < 3) or\n",
    "    (isinstance(received,bytes) and \"code\" not in received.decode(\"utf-8\"))):\n",
    "    with socket.socket(socket.AF_INET, socket.SOCK_STREAM) as sock:\n",
    "        # Connect to server and send data\n",
    "        sock.connect((HOST, PORT))\n",
    "        print(sock.getsockname())\n",
    "\n",
    "        # Receive data from the server and shut down\n",
    "\n",
    "#         print(\"Sent: {}\".format(data))\n",
    "        sock.sendall(bytes(data + \"\\n\", \"utf-8\"))\n",
    "        received = str(sock.recv(1024), \"utf-8\")\n",
    "#         print(\"Received: {}\".format(received[0:10]))\n",
    "    time.sleep(2)\n",
    "token = re.search(\"(?<=code=)(.*?)(?=[!\\s])\", received).group()"
   ]
  },
  {
   "cell_type": "code",
   "execution_count": 33,
   "metadata": {
    "collapsed": true
   },
   "outputs": [],
   "source": [
    "url_files = \"https://api.dropboxapi.com/2/file_requests/list\"\n",
    "\n",
    "headers = {\n",
    "    \"Authorization\": \"Bearer \" + token,\n",
    "    \"Content-Type\": \"application/json\"\n",
    "}\n",
    "\n",
    "data = {\"path\":\"\"}\n",
    "\n",
    "url=\"https://api.dropboxapi.com/2/files/list_folder\"\n",
    "\n",
    "req = urllib.request.Request(url,json.dumps(data).encode(),headers)\n",
    "response = urllib.request.urlopen(req)\n",
    "# response.status\n",
    "\n",
    "files = json.loads(response.read().decode(\"utf-8\"))"
   ]
  },
  {
   "cell_type": "code",
   "execution_count": 35,
   "metadata": {},
   "outputs": [],
   "source": [
    "class DropboxRequest:\n",
    "    def __init__(self,token):\n",
    "        self.token = token\n",
    "        \n",
    "    @staticmethod\n",
    "    def make_request(url, headers, data=None):\n",
    "        \"\"\" Makes a request to Dropbox's API\n",
    "        Args: url, headers of call\n",
    "        Returns: a dict object\n",
    "        \"\"\"\n",
    "        req = urllib.request.Request(url,json.dumps(data).encode(),headers)\n",
    "        response = urllib.request.urlopen(req)\n",
    "        return json.loads(response.read().decode(\"utf-8\"))\n",
    "    \n",
    "    def list_folder(self,path):\n",
    "        \"\"\" Gets a list of all files in a folder\n",
    "        Args: \n",
    "            path: string path to the folder to look in\n",
    "        Returns: a dict containing information about that folder\n",
    "        \"\"\"\n",
    "        url = \"https://api.dropboxapi.com/2/files/list_folder\"\n",
    "        header = {\"Authorization\": \"Bearer \" + token,\n",
    "                  \"Content-Type\": \"application/json\"}\n",
    "        data = {\"path\": path}\n",
    "        return DropboxRequest.make_request(url, headers,data=data)\n",
    "        \n",
    "        "
   ]
  }
 ],
 "metadata": {
  "anaconda-cloud": {},
  "kernelspec": {
   "display_name": "Python [conda root]",
   "language": "python",
   "name": "conda-root-py"
  },
  "language_info": {
   "codemirror_mode": {
    "name": "ipython",
    "version": 3
   },
   "file_extension": ".py",
   "mimetype": "text/x-python",
   "name": "python",
   "nbconvert_exporter": "python",
   "pygments_lexer": "ipython3",
   "version": "3.5.2"
  }
 },
 "nbformat": 4,
 "nbformat_minor": 1
}
