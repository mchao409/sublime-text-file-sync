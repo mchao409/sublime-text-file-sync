{
 "cells": [
  {
   "cell_type": "markdown",
   "metadata": {},
   "source": [
    "Client code for obtaining Bearer token for authorization in Dropbox's API"
   ]
  },
  {
   "cell_type": "code",
   "execution_count": 74,
   "metadata": {
    "collapsed": true
   },
   "outputs": [],
   "source": [
    "import webbrowser\n",
    "import http.server\n",
    "import socketserver\n",
    "from urllib import request\n",
    "import urllib\n",
    "import http.server\n",
    "import socket\n",
    "import sys\n",
    "import re\n",
    "import time"
   ]
  },
  {
   "cell_type": "code",
   "execution_count": 86,
   "metadata": {},
   "outputs": [
    {
     "name": "stdout",
     "output_type": "stream",
     "text": [
      "('127.0.0.1', 57624)\n",
      "('127.0.0.1', 57625)\n",
      "('127.0.0.1', 57630)\n"
     ]
    }
   ],
   "source": [
    "f = open(\"app_info.txt\", \"r\") ## Contains private info about application\n",
    "APP_KEY = f.readline().rstrip().replace(\"app key \", \"\")\n",
    "APP_SECRET = f.readline().rstrip().replace(\"secret \", \"\")\n",
    "\n",
    "url =(\"https://www.dropbox.com/oauth2/authorize?client_id=\" + APP_KEY + \n",
    "      \"&response_type=code&redirect_uri=http://localhost:8000\")\n",
    "webbrowser.open(url)\n",
    "\n",
    "HOST, PORT = \"localhost\", 8000\n",
    "data = \"unecessary\"\n",
    "\n",
    "# Create a socket (SOCK_STREAM means a TCP socket)\n",
    "\n",
    "received = None\n",
    "while (received == None or (isinstance(received,str) and len(received) < 3) or\n",
    "    (isinstance(received,bytes) and \"code\" not in received.decode(\"utf-8\"))):\n",
    "    with socket.socket(socket.AF_INET, socket.SOCK_STREAM) as sock:\n",
    "        # Connect to server and send data\n",
    "        sock.connect((HOST, PORT))\n",
    "        print(sock.getsockname())\n",
    "\n",
    "        # Receive data from the server and shut down\n",
    "\n",
    "#         print(\"Sent: {}\".format(data))\n",
    "        sock.sendall(bytes(data + \"\\n\", \"utf-8\"))\n",
    "        received = str(sock.recv(1024), \"utf-8\")\n",
    "#         print(\"Received: {}\".format(received[0:10]))\n",
    "    time.sleep(2)\n"
   ]
  },
  {
   "cell_type": "code",
   "execution_count": 93,
   "metadata": {},
   "outputs": [],
   "source": [
    "token = re.search(\"(?<=code=)(.*?)(?=[!\\s])\", received).group()"
   ]
  },
  {
   "cell_type": "code",
   "execution_count": 94,
   "metadata": {
    "collapsed": true
   },
   "outputs": [],
   "source": [
    "url = \"https://api.dropbox.com\"\n",
    "headers = urllib.parse.urlencode({\"Authorizaion\": \"Bearer \" + token}).encode(\"utf-8\")"
   ]
  },
  {
   "cell_type": "code",
   "execution_count": 95,
   "metadata": {},
   "outputs": [],
   "source": [
    "req = urllib.request.Request(url,headers)\n",
    "response = urllib.request.urlopen(req)"
   ]
  },
  {
   "cell_type": "code",
   "execution_count": 96,
   "metadata": {},
   "outputs": [
    {
     "data": {
      "text/plain": [
       "200"
      ]
     },
     "execution_count": 96,
     "metadata": {},
     "output_type": "execute_result"
    }
   ],
   "source": [
    "response.status"
   ]
  }
 ],
 "metadata": {
  "anaconda-cloud": {},
  "kernelspec": {
   "display_name": "Python [conda root]",
   "language": "python",
   "name": "conda-root-py"
  },
  "language_info": {
   "codemirror_mode": {
    "name": "ipython",
    "version": 3
   },
   "file_extension": ".py",
   "mimetype": "text/x-python",
   "name": "python",
   "nbconvert_exporter": "python",
   "pygments_lexer": "ipython3",
   "version": "3.5.2"
  }
 },
 "nbformat": 4,
 "nbformat_minor": 1
}
