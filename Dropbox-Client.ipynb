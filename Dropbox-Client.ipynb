{
 "cells": [
  {
   "cell_type": "markdown",
   "metadata": {},
   "source": [
    "Client code for Dropbox's API"
   ]
  },
  {
   "cell_type": "code",
   "execution_count": 70,
   "metadata": {
    "collapsed": true
   },
   "outputs": [],
   "source": [
    "import webbrowser\n",
    "import http.server\n",
    "import socketserver\n",
    "from urllib import request\n",
    "from urllib.request import urlopen\n",
    "from urllib.parse import urlencode\n",
    "import urllib\n",
    "import http.server\n",
    "import socket\n",
    "import re\n",
    "import time\n",
    "import json"
   ]
  },
  {
   "cell_type": "code",
   "execution_count": 2,
   "metadata": {
    "collapsed": true
   },
   "outputs": [],
   "source": [
    "f = open(\"app_info.txt\", \"r\") ## Contains private info about application\n",
    "APP_KEY = f.readline().rstrip().replace(\"app key \", \"\")\n",
    "APP_SECRET = f.readline().rstrip().replace(\"secret \", \"\")\n",
    "# Generated token so that you don't have to run server each time when testing. Comment out if running server\n",
    "# token = f.readline().rstrip().replace(\"token \", \"\") "
   ]
  },
  {
   "cell_type": "code",
   "execution_count": 67,
   "metadata": {},
   "outputs": [
    {
     "name": "stdout",
     "output_type": "stream",
     "text": [
      "('127.0.0.1', 59515)\n",
      "Sent: unecessary\n",
      "Received: \n",
      "('127.0.0.1', 59517)\n",
      "Sent: unecessary\n",
      "Received: \n",
      "('127.0.0.1', 59518)\n",
      "Sent: unecessary\n",
      "Received: \n",
      "('127.0.0.1', 59523)\n",
      "Sent: unecessary\n",
      "Received: GET /?code\n"
     ]
    }
   ],
   "source": [
    "# # Server code (can skip for now)\n",
    "authorize_url =(\"https://www.dropbox.com/oauth2/authorize?client_id=\" + APP_KEY + \n",
    "      \"&response_type=code&redirect_uri=http://localhost:8000\")\n",
    "webbrowser.open(authorize_url)\n",
    "\n",
    "HOST, PORT = \"localhost\", 8000\n",
    "data = \"unecessary\"\n",
    "\n",
    "received = None\n",
    "while (received == None or (isinstance(received,str) and len(received) < 3) or\n",
    "    (isinstance(received,bytes) and \"code\" not in received.decode(\"utf-8\"))):\n",
    "    with socket.socket(socket.AF_INET, socket.SOCK_STREAM) as sock:\n",
    "        # Connect to server and send data\n",
    "        sock.connect((HOST, PORT))\n",
    "        print(sock.getsockname())\n",
    "\n",
    "\n",
    "        print(\"Sent: {}\".format(data))\n",
    "        sock.sendall(bytes(data + \"\\n\", \"utf-8\"))\n",
    "        # Receive data from the server and shut down\n",
    "\n",
    "        received = str(sock.recv(1024), \"utf-8\")\n",
    "        print(\"Received: {}\".format(received[0:10]))\n",
    "    time.sleep(2)\n",
    "code = re.search(\"(?<=code=)(.*?)(?=[!\\s])\", received).group()"
   ]
  },
  {
   "cell_type": "code",
   "execution_count": 68,
   "metadata": {},
   "outputs": [],
   "source": [
    "head = {\"code\": code,\n",
    "       \"grant_type\": \"authorization_code\",\n",
    "       \"client_id\": APP_KEY,\n",
    "       \"client_secret\": APP_SECRET,\n",
    "       \"redirect_uri\": \"http://localhost:8000\"}\n",
    "f = urlopen(\"https://api.dropboxapi.com/oauth2/token\", urlencode(head).encode(\"ascii\"))\n",
    "token_json = eval(f.read().decode(\"utf-8\"))\n",
    "token = token_json[\"access_token\"]"
   ]
  },
  {
   "cell_type": "code",
   "execution_count": 71,
   "metadata": {
    "collapsed": true
   },
   "outputs": [],
   "source": [
    "class DropboxRequest:\n",
    "    def __init__(self,token):\n",
    "        self.token = token\n",
    "        \n",
    "    @staticmethod\n",
    "    def make_request(url, headers, data=None):\n",
    "        \"\"\" Makes a request to Dropbox's API\n",
    "        Args: \n",
    "            url, headers of call\n",
    "        Returns: \n",
    "            a dict object\n",
    "        \"\"\"\n",
    "        if(data == None):\n",
    "            req = urllib.request.Request(url,None,headers)\n",
    "        else:\n",
    "            req = urllib.request.Request(url,json.dumps(data).encode(),headers)\n",
    "\n",
    "\n",
    "        response = urllib.request.urlopen(req)\n",
    "        return response.read().decode(\"utf-8\")\n",
    "\n",
    "    def list_folder(self,path):\n",
    "        \"\"\" Gets a list of all files in a folder\n",
    "        Args: \n",
    "            path: string path to the folder to look in\n",
    "        Returns: a dict containing information about that folder\n",
    "        \"\"\"\n",
    "        url = \"https://api.dropboxapi.com/2/files/list_folder\"\n",
    "        headers = {\"Authorization\": \"Bearer \" + self.token,\n",
    "                  \"Content-Type\": \"application/json\"}\n",
    "        data = {\"path\": path}\n",
    "        return DropboxRequest.make_request(url, headers,data=data)\n",
    "    \n",
    "    def download(self,path):\n",
    "        url = \"https://content.dropboxapi.com/2/files/download\"\n",
    "        headers = {\n",
    "    \"Authorization\": \"Bearer \" + token,\n",
    "    \"Dropbox-API-Arg\": '{\"path\":\"/my-plugin.py\"}'\n",
    "        }\n",
    "        return DropboxRequest.make_request(url, headers)\n",
    "        \n",
    "        "
   ]
  },
  {
   "cell_type": "code",
   "execution_count": 72,
   "metadata": {
    "collapsed": true
   },
   "outputs": [],
   "source": [
    "a = DropboxRequest(token)"
   ]
  },
  {
   "cell_type": "code",
   "execution_count": 74,
   "metadata": {},
   "outputs": [
    {
     "data": {
      "text/plain": [
       "'{\"entries\": [{\".tag\": \"folder\", \"name\": \"My_Files\", \"path_lower\": \"/my_files\", \"path_display\": \"/My_Files\", \"id\": \"id:MP9vQO9YC9AAAAAAAAAACw\"}, {\".tag\": \"file\", \"name\": \"Get Started with Dropbox.pdf\", \"path_lower\": \"/get started with dropbox.pdf\", \"path_display\": \"/Get Started with Dropbox.pdf\", \"id\": \"id:MP9vQO9YC9AAAAAAAAAABg\", \"client_modified\": \"2018-01-23T15:07:07Z\", \"server_modified\": \"2018-01-23T15:07:07Z\", \"rev\": \"186a84920\", \"size\": 1102331, \"content_hash\": \"f7ad488deb7d81790340ecd676fe6e47f0a6064fb99b982685b752d58611c1cb\"}, {\".tag\": \"file\", \"name\": \"Get Started with Dropbox Paper.url\", \"path_lower\": \"/get started with dropbox paper.url\", \"path_display\": \"/Get Started with Dropbox Paper.url\", \"id\": \"id:MP9vQO9YC9AAAAAAAAAABw\", \"client_modified\": \"2018-01-23T15:07:07Z\", \"server_modified\": \"2018-01-23T15:07:07Z\", \"rev\": \"286a84920\", \"size\": 240, \"content_hash\": \"f40c1228343d7e2a632281c986dbb7af3491b9b63ddfd0eb10fee2c913f6cfa7\"}, {\".tag\": \"file\", \"name\": \"my-plugin.py\", \"path_lower\": \"/my-plugin.py\", \"path_display\": \"/my-plugin.py\", \"id\": \"id:MP9vQO9YC9AAAAAAAAAADQ\", \"client_modified\": \"2018-01-30T16:53:10Z\", \"server_modified\": \"2018-01-30T16:53:10Z\", \"rev\": \"686a84920\", \"size\": 4101, \"content_hash\": \"3b5be9484da68bdcb3b18014132d94e510131940c8348bd361e24a5f2860b845\"}], \"cursor\": \"AAFRi5Z2hlHOu04c4hOBQAvntmnETdLMIbci9AG0GCavoXvMTAUs9yDtiWOjs4T3v_h1z50Uv2fyiAK_W8vrh9pznxrZQRFl1YcosRdHeOigX5B1B-oauYkJD5yOmXwf-VXrC46BFO1YalK9L_GmLMt7UQ74zheTAYRC83BKqJoE_g\", \"has_more\": false}'"
      ]
     },
     "execution_count": 74,
     "metadata": {},
     "output_type": "execute_result"
    }
   ],
   "source": [
    "a.list_folder(\"\")"
   ]
  }
 ],
 "metadata": {
  "anaconda-cloud": {},
  "kernelspec": {
   "display_name": "Python [conda root]",
   "language": "python",
   "name": "conda-root-py"
  },
  "language_info": {
   "codemirror_mode": {
    "name": "ipython",
    "version": 3
   },
   "file_extension": ".py",
   "mimetype": "text/x-python",
   "name": "python",
   "nbconvert_exporter": "python",
   "pygments_lexer": "ipython3",
   "version": "3.5.2"
  }
 },
 "nbformat": 4,
 "nbformat_minor": 1
}
