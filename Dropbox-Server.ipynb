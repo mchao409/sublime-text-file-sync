{
 "cells": [
  {
   "cell_type": "markdown",
   "metadata": {},
   "source": [
    "Server code for accessing Dropbox's API"
   ]
  },
  {
   "cell_type": "code",
   "execution_count": 35,
   "metadata": {},
   "outputs": [],
   "source": [
    "import webbrowser\n",
    "import socket\n",
    "from http.server import HTTPServer\n",
    "from http.server import BaseHTTPRequestHandler\n",
    "import socketserver\n",
    "import time\n",
    "import re"
   ]
  },
  {
   "cell_type": "code",
   "execution_count": 43,
   "metadata": {},
   "outputs": [
    {
     "name": "stdout",
     "output_type": "stream",
     "text": [
      "Server created\n",
      "serving server\n"
     ]
    }
   ],
   "source": [
    "token = None\n",
    "class MyTCPHandler(socketserver.BaseRequestHandler):\n",
    "    data = None\n",
    "    \"\"\"\n",
    "    The request handler class for the server.\n",
    "    \"\"\"\n",
    "    def handle(self):\n",
    "        print(\"HANDLING REQUEST\")\n",
    "        # self.request is the TCP socket connected to the client\n",
    "        text = self.request.recv(1024).strip()\n",
    "#         print(text)\n",
    "        if MyTCPHandler.data == None and \"token\" in text.decode(\"utf-8\"):\n",
    "            MyTCPHandler.data = text.decode(\"utf-8\")\n",
    "            print(MyTCPHandler.data)\n",
    "            self.request.sendall(\"HTTP/1.1 200 OK\\n\".encode())\n",
    "            token = re.search(\"(?<=token=)(.*?)(?=[!\\s])\", MyTCPHandler.data).group()\n",
    "            with open(\"token.txt\", \"w\") as f:\n",
    "                f.write(token)\n",
    "#             print(\"here is the data: \")\n",
    "#             print(MyTCPHandler.data)\n",
    "\n",
    "if __name__ == \"__main__\":\n",
    "    HOST, PORT = \"localhost\", 8001\n",
    "\n",
    "    # Create the server, binding to localhost on port 9999\n",
    "    server = socketserver.TCPServer((HOST, PORT), MyTCPHandler)\n",
    "    print(\"Server created\")\n",
    "\n",
    "    # Activate the server; this will keep running until you\n",
    "    # interrupt the program with Ctrl-C\n",
    "    try:\n",
    "#         server.serve_forever()\n",
    "        print(\"serving server\")\n",
    "        server.handle_request()\n",
    "        server.server_close()\n",
    "    except:\n",
    "        server.server_close()"
   ]
  }
 ],
 "metadata": {
  "anaconda-cloud": {},
  "kernelspec": {
   "display_name": "Python [default]",
   "language": "python",
   "name": "python3"
  },
  "language_info": {
   "codemirror_mode": {
    "name": "ipython",
    "version": 3
   },
   "file_extension": ".py",
   "mimetype": "text/x-python",
   "name": "python",
   "nbconvert_exporter": "python",
   "pygments_lexer": "ipython3",
   "version": "3.6.4"
  }
 },
 "nbformat": 4,
 "nbformat_minor": 1
}
