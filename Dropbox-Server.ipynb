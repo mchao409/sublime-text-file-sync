{
 "cells": [
  {
   "cell_type": "markdown",
   "metadata": {},
   "source": [
    "Server code for accessing Dropbox's API"
   ]
  },
  {
   "cell_type": "code",
   "execution_count": 2,
   "metadata": {
    "collapsed": true
   },
   "outputs": [],
   "source": [
    "import webbrowser\n",
    "import socket\n",
    "from http.server import HTTPServer\n",
    "from http.server import BaseHTTPRequestHandler\n",
    "import socketserver\n",
    "import time"
   ]
  },
  {
   "cell_type": "code",
   "execution_count": 55,
   "metadata": {
    "collapsed": true
   },
   "outputs": [],
   "source": [
    "string = \"\"\"GET /?code=P5J33p1PkrAAAAAAAAAApczNP6cqdU3xqjGEzv6fxUA HTTP/1.1\n",
    "Accept: text/html,application/xhtml+xml,application/xml;q=0.9,*/*;q=0.8\n",
    "Cookie: _xsrf=2|12f273e3|b4f4c6fa7e94572abda64a0745b5505a|1516138168; username-localhost-8888=\"2|1:0|10:1517001841|23:username-localhost-8888|44:YjRiN2I4ODAzOGI4NDBmMDk0ZWJjYzMwMjg3NWUyNTA=|d3d9c14a1c2cba48bf3665ee26fd1913ece383813121f8d99e2a431f385e86ab\"; username-localhost-8889=\"2|1:0|10:1516858370|23:username-localhost-8889|44:OTlmYWM4N2Q1OWY5NGM3Y2IyYjU0YmE0OGY0OWVkNzM=|2b9d1a56dcc04bb5f8ce92952d0e05ffc54ee1c51348b5d2d2f666a4e56d6797\"\n",
    "User-Agent: Mozilla/5.0 (Macintosh; Intel Mac OS X 10_11_6) AppleWebKit/601.7.7 (KHTML, like Gecko) Version/9.1.2 Safari/601.7.7\n",
    "Accept-Language: en-us\n",
    "Accept-Encoding: gzip, deflate\n",
    "Connection: keep-alive\"\"\""
   ]
  },
  {
   "cell_type": "code",
   "execution_count": 56,
   "metadata": {},
   "outputs": [
    {
     "name": "stdout",
     "output_type": "stream",
     "text": [
      "Server created\n",
      "HANDLING REQUEST\n",
      "HANDLING REQUEST\n",
      "HANDLING REQUEST\n",
      "HANDLING REQUEST\n",
      "hello sdasd\n",
      "HANDLING REQUEST\n",
      "hello sdasd\n",
      "HANDLING REQUEST\n"
     ]
    }
   ],
   "source": [
    "class MyTCPHandler(socketserver.BaseRequestHandler):\n",
    "    data = None\n",
    "    \"\"\"\n",
    "    The request handler class for the server.\n",
    "    \"\"\"\n",
    "    def handle(self):\n",
    "        print(\"HANDLING REQUEST\")\n",
    "        # self.request is the TCP socket connected to the client\n",
    "        text = self.request.recv(1024).strip()\n",
    "#         print(text)\n",
    "        if MyTCPHandler.data == None and \"code\" in text.decode(\"utf-8\"):\n",
    "            MyTCPHandler.data = text.decode(\"utf-8\")\n",
    "#             print(\"here is the data: \")\n",
    "#             print(MyTCPHandler.data)\n",
    "\n",
    "\n",
    "        elif MyTCPHandler.data != None and \"code\" in text.decode(\"utf-8\"):\n",
    "            print(\"hello sdasd\")\n",
    "#             self.request.sendall(string.encode())\n",
    "            self.request.sendall(\"Successfully authorized\".encode())\n",
    "        else:\n",
    "            if(MyTCPHandler.data != None):\n",
    "                self.request.sendall(MyTCPHandler.data.encode())\n",
    "#                 print(\"Data sent away: {}\".format(MyTCPHandler.data))\n",
    "            \n",
    "\n",
    "#         print(\"{} wrote:\".format(self.client_address[0]))\n",
    "\n",
    "if __name__ == \"__main__\":\n",
    "    HOST, PORT = \"localhost\", 8000\n",
    "\n",
    "    # Create the server, binding to localhost on port 9999\n",
    "    server = socketserver.TCPServer((HOST, PORT), MyTCPHandler)\n",
    "    print(\"Server created\")\n",
    "\n",
    "    # Activate the server; this will keep running until you\n",
    "    # interrupt the program with Ctrl-C\n",
    "    try:\n",
    "        server.serve_forever()\n",
    "        print(\"serving server\")\n",
    "    except:\n",
    "        server.server_close()"
   ]
  },
  {
   "cell_type": "code",
   "execution_count": null,
   "metadata": {
    "collapsed": true
   },
   "outputs": [],
   "source": []
  },
  {
   "cell_type": "code",
   "execution_count": null,
   "metadata": {
    "collapsed": true
   },
   "outputs": [],
   "source": []
  }
 ],
 "metadata": {
  "anaconda-cloud": {},
  "kernelspec": {
   "display_name": "Python [default]",
   "language": "python",
   "name": "python3"
  },
  "language_info": {
   "codemirror_mode": {
    "name": "ipython",
    "version": 3
   },
   "file_extension": ".py",
   "mimetype": "text/x-python",
   "name": "python",
   "nbconvert_exporter": "python",
   "pygments_lexer": "ipython3",
   "version": "3.5.2"
  }
 },
 "nbformat": 4,
 "nbformat_minor": 1
}
