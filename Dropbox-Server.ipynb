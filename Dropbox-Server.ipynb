{
 "cells": [
  {
   "cell_type": "markdown",
   "metadata": {},
   "source": [
    "Server code for accessing Dropbox's API"
   ]
  },
  {
   "cell_type": "code",
   "execution_count": 1,
   "metadata": {
    "collapsed": true
   },
   "outputs": [],
   "source": [
    "import webbrowser\n",
    "import socket\n",
    "from http.server import HTTPServer\n",
    "from http.server import BaseHTTPRequestHandler\n",
    "import socketserver\n",
    "import time"
   ]
  },
  {
   "cell_type": "code",
   "execution_count": null,
   "metadata": {},
   "outputs": [
    {
     "name": "stdout",
     "output_type": "stream",
     "text": [
      "Server created\n",
      "HANDLING REQUEST\n",
      "HANDLING REQUEST\n",
      "HANDLING REQUEST\n",
      "HANDLING REQUEST\n",
      "HANDLING REQUEST\n",
      "HANDLING REQUEST\n"
     ]
    }
   ],
   "source": [
    "class MyTCPHandler(socketserver.BaseRequestHandler):\n",
    "    data = None\n",
    "    \"\"\"\n",
    "    The request handler class for the server.\n",
    "    \"\"\"\n",
    "    def handle(self):\n",
    "        print(\"HANDLING REQUEST\")\n",
    "        # self.request is the TCP socket connected to the client\n",
    "        text = self.request.recv(1024).strip()\n",
    "#         print(text)\n",
    "        if MyTCPHandler.data == None and \"code\" in text.decode(\"utf-8\"):\n",
    "            MyTCPHandler.data = text.decode(\"utf-8\")\n",
    "#             print(\"here is the data: \")\n",
    "#             print(MyTCPHandler.data)\n",
    "\n",
    "\n",
    "        elif MyTCPHandler.data != None and \"code\" in text.decode(\"utf-8\"):\n",
    "#             print(\"hello sdasd\")\n",
    "            self.request.sendall(MyTCPHandler.data.encode())\n",
    "#             self.request.sendall(\"Successfully authorized\".encode())\n",
    "        else:\n",
    "            if(MyTCPHandler.data != None):\n",
    "                self.request.sendall(MyTCPHandler.data.encode())\n",
    "#                 print(\"Data sent away: {}\".format(MyTCPHandler.data))\n",
    "            \n",
    "\n",
    "#         print(\"{} wrote:\".format(self.client_address[0]))\n",
    "\n",
    "if __name__ == \"__main__\":\n",
    "    HOST, PORT = \"localhost\", 8000\n",
    "\n",
    "    # Create the server, binding to localhost on port 9999\n",
    "    server = socketserver.TCPServer((HOST, PORT), MyTCPHandler)\n",
    "    print(\"Server created\")\n",
    "\n",
    "    # Activate the server; this will keep running until you\n",
    "    # interrupt the program with Ctrl-C\n",
    "    try:\n",
    "        server.serve_forever()\n",
    "        print(\"serving server\")\n",
    "    except:\n",
    "        server.server_close()"
   ]
  },
  {
   "cell_type": "code",
   "execution_count": null,
   "metadata": {
    "collapsed": true
   },
   "outputs": [],
   "source": []
  },
  {
   "cell_type": "code",
   "execution_count": null,
   "metadata": {
    "collapsed": true
   },
   "outputs": [],
   "source": []
  }
 ],
 "metadata": {
  "anaconda-cloud": {},
  "kernelspec": {
   "display_name": "Python [default]",
   "language": "python",
   "name": "python3"
  },
  "language_info": {
   "codemirror_mode": {
    "name": "ipython",
    "version": 3
   },
   "file_extension": ".py",
   "mimetype": "text/x-python",
   "name": "python",
   "nbconvert_exporter": "python",
   "pygments_lexer": "ipython3",
   "version": "3.5.2"
  }
 },
 "nbformat": 4,
 "nbformat_minor": 1
}
